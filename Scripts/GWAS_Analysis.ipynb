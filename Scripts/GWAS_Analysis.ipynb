{
 "cells": [
  {
   "cell_type": "code",
   "execution_count": 1,
   "id": "861e8f64-c92a-4bbb-8c04-1bb114de7b51",
   "metadata": {},
   "outputs": [],
   "source": [
    "import warnings\n",
    "warnings.filterwarnings('ignore')"
   ]
  },
  {
   "cell_type": "code",
   "execution_count": 2,
   "id": "f456c771-b127-40af-9410-8b456143aa31",
   "metadata": {},
   "outputs": [],
   "source": [
    "#Importing Pandas library \n",
    "import pandas as pd"
   ]
  },
  {
   "cell_type": "code",
   "execution_count": 3,
   "id": "eef404be-3113-4665-b476-c26c4b3b271a",
   "metadata": {},
   "outputs": [],
   "source": [
    "#Loading the GWAS catalog TSV file\n",
    "df = pd.read_csv(\"gwas_catalog_v1.0-associations_e114_r2025-06-10.tsv\", sep = \"\\t\")"
   ]
  },
  {
   "cell_type": "code",
   "execution_count": 3,
   "id": "20cd8a27-967c-4e38-90f8-46615412892a",
   "metadata": {},
   "outputs": [
    {
     "name": "stdout",
     "output_type": "stream",
     "text": [
      "Total no. of rows and columns are:  (888097, 34)\n"
     ]
    }
   ],
   "source": [
    "print(\"Total no. of rows and columns are: \", df.shape)"
   ]
  },
  {
   "cell_type": "code",
   "execution_count": 4,
   "id": "bcc059db-a7bf-479c-a939-919a9a6bf174",
   "metadata": {},
   "outputs": [
    {
     "data": {
      "text/html": [
       "<div>\n",
       "<style scoped>\n",
       "    .dataframe tbody tr th:only-of-type {\n",
       "        vertical-align: middle;\n",
       "    }\n",
       "\n",
       "    .dataframe tbody tr th {\n",
       "        vertical-align: top;\n",
       "    }\n",
       "\n",
       "    .dataframe thead th {\n",
       "        text-align: right;\n",
       "    }\n",
       "</style>\n",
       "<table border=\"1\" class=\"dataframe\">\n",
       "  <thead>\n",
       "    <tr style=\"text-align: right;\">\n",
       "      <th></th>\n",
       "      <th>DATE ADDED TO CATALOG</th>\n",
       "      <th>PUBMEDID</th>\n",
       "      <th>FIRST AUTHOR</th>\n",
       "      <th>DATE</th>\n",
       "      <th>JOURNAL</th>\n",
       "      <th>LINK</th>\n",
       "      <th>STUDY</th>\n",
       "      <th>DISEASE/TRAIT</th>\n",
       "      <th>INITIAL SAMPLE SIZE</th>\n",
       "      <th>REPLICATION SAMPLE SIZE</th>\n",
       "      <th>...</th>\n",
       "      <th>CONTEXT</th>\n",
       "      <th>INTERGENIC</th>\n",
       "      <th>RISK ALLELE FREQUENCY</th>\n",
       "      <th>P-VALUE</th>\n",
       "      <th>PVALUE_MLOG</th>\n",
       "      <th>P-VALUE (TEXT)</th>\n",
       "      <th>OR or BETA</th>\n",
       "      <th>95% CI (TEXT)</th>\n",
       "      <th>PLATFORM [SNPS PASSING QC]</th>\n",
       "      <th>CNV</th>\n",
       "    </tr>\n",
       "  </thead>\n",
       "  <tbody>\n",
       "    <tr>\n",
       "      <th>0</th>\n",
       "      <td>2011-04-07</td>\n",
       "      <td>21408207</td>\n",
       "      <td>Chung SA</td>\n",
       "      <td>2011-03-03</td>\n",
       "      <td>PLoS Genet</td>\n",
       "      <td>www.ncbi.nlm.nih.gov/pubmed/21408207</td>\n",
       "      <td>Differential genetic associations for systemic...</td>\n",
       "      <td>Systemic lupus erythematosus</td>\n",
       "      <td>811 anti-dsDNA positive European ancestry case...</td>\n",
       "      <td>NaN</td>\n",
       "      <td>...</td>\n",
       "      <td>intron_variant</td>\n",
       "      <td>0.0</td>\n",
       "      <td>0.13</td>\n",
       "      <td>6.000000e-29</td>\n",
       "      <td>28.221849</td>\n",
       "      <td>(anti-dsDNA +)</td>\n",
       "      <td>2.21</td>\n",
       "      <td>[1.93-2.53]</td>\n",
       "      <td>Illumina [421318] (imputed)</td>\n",
       "      <td>N</td>\n",
       "    </tr>\n",
       "    <tr>\n",
       "      <th>1</th>\n",
       "      <td>2011-04-07</td>\n",
       "      <td>21408207</td>\n",
       "      <td>Chung SA</td>\n",
       "      <td>2011-03-03</td>\n",
       "      <td>PLoS Genet</td>\n",
       "      <td>www.ncbi.nlm.nih.gov/pubmed/21408207</td>\n",
       "      <td>Differential genetic associations for systemic...</td>\n",
       "      <td>Systemic lupus erythematosus</td>\n",
       "      <td>811 anti-dsDNA positive European ancestry case...</td>\n",
       "      <td>NaN</td>\n",
       "      <td>...</td>\n",
       "      <td>intron_variant</td>\n",
       "      <td>0.0</td>\n",
       "      <td>0.23</td>\n",
       "      <td>2.000000e-20</td>\n",
       "      <td>19.698970</td>\n",
       "      <td>(anti-dsDNA +)</td>\n",
       "      <td>1.77</td>\n",
       "      <td>[1.57-1.99]</td>\n",
       "      <td>Illumina [421318] (imputed)</td>\n",
       "      <td>N</td>\n",
       "    </tr>\n",
       "    <tr>\n",
       "      <th>2</th>\n",
       "      <td>2011-04-07</td>\n",
       "      <td>21408207</td>\n",
       "      <td>Chung SA</td>\n",
       "      <td>2011-03-03</td>\n",
       "      <td>PLoS Genet</td>\n",
       "      <td>www.ncbi.nlm.nih.gov/pubmed/21408207</td>\n",
       "      <td>Differential genetic associations for systemic...</td>\n",
       "      <td>Systemic lupus erythematosus</td>\n",
       "      <td>811 anti-dsDNA positive European ancestry case...</td>\n",
       "      <td>NaN</td>\n",
       "      <td>...</td>\n",
       "      <td>intergenic_variant</td>\n",
       "      <td>1.0</td>\n",
       "      <td>0.11</td>\n",
       "      <td>7.000000e-18</td>\n",
       "      <td>17.154902</td>\n",
       "      <td>(anti-dsDNA +)</td>\n",
       "      <td>1.92</td>\n",
       "      <td>[1.66-2.22]</td>\n",
       "      <td>Illumina [421318] (imputed)</td>\n",
       "      <td>N</td>\n",
       "    </tr>\n",
       "    <tr>\n",
       "      <th>3</th>\n",
       "      <td>2011-04-07</td>\n",
       "      <td>21408207</td>\n",
       "      <td>Chung SA</td>\n",
       "      <td>2011-03-03</td>\n",
       "      <td>PLoS Genet</td>\n",
       "      <td>www.ncbi.nlm.nih.gov/pubmed/21408207</td>\n",
       "      <td>Differential genetic associations for systemic...</td>\n",
       "      <td>Systemic lupus erythematosus</td>\n",
       "      <td>811 anti-dsDNA positive European ancestry case...</td>\n",
       "      <td>NaN</td>\n",
       "      <td>...</td>\n",
       "      <td>intergenic_variant</td>\n",
       "      <td>1.0</td>\n",
       "      <td>0.57</td>\n",
       "      <td>4.000000e-06</td>\n",
       "      <td>5.397940</td>\n",
       "      <td>(anti-dsDNA +)</td>\n",
       "      <td>1.32</td>\n",
       "      <td>[1.18-1.47]</td>\n",
       "      <td>Illumina [421318] (imputed)</td>\n",
       "      <td>N</td>\n",
       "    </tr>\n",
       "    <tr>\n",
       "      <th>4</th>\n",
       "      <td>2011-04-07</td>\n",
       "      <td>21408207</td>\n",
       "      <td>Chung SA</td>\n",
       "      <td>2011-03-03</td>\n",
       "      <td>PLoS Genet</td>\n",
       "      <td>www.ncbi.nlm.nih.gov/pubmed/21408207</td>\n",
       "      <td>Differential genetic associations for systemic...</td>\n",
       "      <td>Systemic lupus erythematosus</td>\n",
       "      <td>811 anti-dsDNA positive European ancestry case...</td>\n",
       "      <td>NaN</td>\n",
       "      <td>...</td>\n",
       "      <td>regulatory_region_variant</td>\n",
       "      <td>0.0</td>\n",
       "      <td>0.81</td>\n",
       "      <td>4.000000e-06</td>\n",
       "      <td>5.397940</td>\n",
       "      <td>(case-only)</td>\n",
       "      <td>1.56</td>\n",
       "      <td>[1.30-1.89]</td>\n",
       "      <td>Illumina [421318] (imputed)</td>\n",
       "      <td>N</td>\n",
       "    </tr>\n",
       "  </tbody>\n",
       "</table>\n",
       "<p>5 rows × 34 columns</p>\n",
       "</div>"
      ],
      "text/plain": [
       "  DATE ADDED TO CATALOG  PUBMEDID FIRST AUTHOR        DATE     JOURNAL  \\\n",
       "0            2011-04-07  21408207     Chung SA  2011-03-03  PLoS Genet   \n",
       "1            2011-04-07  21408207     Chung SA  2011-03-03  PLoS Genet   \n",
       "2            2011-04-07  21408207     Chung SA  2011-03-03  PLoS Genet   \n",
       "3            2011-04-07  21408207     Chung SA  2011-03-03  PLoS Genet   \n",
       "4            2011-04-07  21408207     Chung SA  2011-03-03  PLoS Genet   \n",
       "\n",
       "                                   LINK  \\\n",
       "0  www.ncbi.nlm.nih.gov/pubmed/21408207   \n",
       "1  www.ncbi.nlm.nih.gov/pubmed/21408207   \n",
       "2  www.ncbi.nlm.nih.gov/pubmed/21408207   \n",
       "3  www.ncbi.nlm.nih.gov/pubmed/21408207   \n",
       "4  www.ncbi.nlm.nih.gov/pubmed/21408207   \n",
       "\n",
       "                                               STUDY  \\\n",
       "0  Differential genetic associations for systemic...   \n",
       "1  Differential genetic associations for systemic...   \n",
       "2  Differential genetic associations for systemic...   \n",
       "3  Differential genetic associations for systemic...   \n",
       "4  Differential genetic associations for systemic...   \n",
       "\n",
       "                  DISEASE/TRAIT  \\\n",
       "0  Systemic lupus erythematosus   \n",
       "1  Systemic lupus erythematosus   \n",
       "2  Systemic lupus erythematosus   \n",
       "3  Systemic lupus erythematosus   \n",
       "4  Systemic lupus erythematosus   \n",
       "\n",
       "                                 INITIAL SAMPLE SIZE REPLICATION SAMPLE SIZE  \\\n",
       "0  811 anti-dsDNA positive European ancestry case...                     NaN   \n",
       "1  811 anti-dsDNA positive European ancestry case...                     NaN   \n",
       "2  811 anti-dsDNA positive European ancestry case...                     NaN   \n",
       "3  811 anti-dsDNA positive European ancestry case...                     NaN   \n",
       "4  811 anti-dsDNA positive European ancestry case...                     NaN   \n",
       "\n",
       "   ...                    CONTEXT INTERGENIC RISK ALLELE FREQUENCY  \\\n",
       "0  ...             intron_variant        0.0                  0.13   \n",
       "1  ...             intron_variant        0.0                  0.23   \n",
       "2  ...         intergenic_variant        1.0                  0.11   \n",
       "3  ...         intergenic_variant        1.0                  0.57   \n",
       "4  ...  regulatory_region_variant        0.0                  0.81   \n",
       "\n",
       "        P-VALUE PVALUE_MLOG  P-VALUE (TEXT) OR or BETA 95% CI (TEXT)  \\\n",
       "0  6.000000e-29   28.221849  (anti-dsDNA +)       2.21   [1.93-2.53]   \n",
       "1  2.000000e-20   19.698970  (anti-dsDNA +)       1.77   [1.57-1.99]   \n",
       "2  7.000000e-18   17.154902  (anti-dsDNA +)       1.92   [1.66-2.22]   \n",
       "3  4.000000e-06    5.397940  (anti-dsDNA +)       1.32   [1.18-1.47]   \n",
       "4  4.000000e-06    5.397940     (case-only)       1.56   [1.30-1.89]   \n",
       "\n",
       "    PLATFORM [SNPS PASSING QC]  CNV  \n",
       "0  Illumina [421318] (imputed)    N  \n",
       "1  Illumina [421318] (imputed)    N  \n",
       "2  Illumina [421318] (imputed)    N  \n",
       "3  Illumina [421318] (imputed)    N  \n",
       "4  Illumina [421318] (imputed)    N  \n",
       "\n",
       "[5 rows x 34 columns]"
      ]
     },
     "execution_count": 4,
     "metadata": {},
     "output_type": "execute_result"
    }
   ],
   "source": [
    "df.head()"
   ]
  },
  {
   "cell_type": "code",
   "execution_count": 5,
   "id": "a0a4840e-f450-4ffc-9ec0-a1061f95f668",
   "metadata": {},
   "outputs": [],
   "source": [
    "#extracting first 25000 rows from the dataset\n",
    "new_df = df.head(25000)"
   ]
  },
  {
   "cell_type": "code",
   "execution_count": 6,
   "id": "59f583c3-e839-47e5-9448-343bc6d091f0",
   "metadata": {},
   "outputs": [],
   "source": [
    "new_df.to_csv(\"new.tsv\", sep=\"\\t\", index=False)"
   ]
  },
  {
   "cell_type": "code",
   "execution_count": 13,
   "id": "9f348131-f98f-41e3-b5f4-2fdb45bcee92",
   "metadata": {},
   "outputs": [],
   "source": [
    "#Finding the unique genes in new.tsv\n",
    "unique_gene = df['MAPPED_GENE'].dropna().unique()\n",
    "unique_gene = pd.Series(unique_gene).str.split(',').explode()\n",
    "unique_gene = unique_gene.str.strip()"
   ]
  },
  {
   "cell_type": "code",
   "execution_count": 14,
   "id": "9efe6243-4e8c-45ee-b1fb-6e42c656bcaa",
   "metadata": {},
   "outputs": [
    {
     "name": "stdout",
     "output_type": "stream",
     "text": [
      "No.of unique genes present :  53913\n",
      "0                  TNXB\n",
      "1                 STAT4\n",
      "2          IRF5 - TNPO3\n",
      "3         SLC1A7 - CPT2\n",
      "4             LINC00578\n",
      "5                  TMC2\n",
      "6         FAM167A - BLK\n",
      "7                 LAMC2\n",
      "8                UBE2L3\n",
      "9             LINC01701\n",
      "10                TNPO3\n",
      "11      CWC22 - SCHLAP1\n",
      "12               OR4A15\n",
      "13             HLA-DQA1\n",
      "14                ITGAM\n",
      "15     RCC2P8 - COL25A1\n",
      "16            MIR3142HG\n",
      "17                PHRF1\n",
      "18             HLA-DQB2\n",
      "19    RPL7AP9 - YWHAQP7\n",
      "dtype: object\n"
     ]
    }
   ],
   "source": [
    "print(\"No.of unique genes present : \", len(unique_gene))\n",
    "print(unique_gene[:20])"
   ]
  },
  {
   "cell_type": "code",
   "execution_count": 15,
   "id": "415d6971-8bd6-4001-b3fa-58b0c9f2f191",
   "metadata": {},
   "outputs": [],
   "source": [
    "genes_df=pd.DataFrame(unique_gene, columns=['Gene'])\n",
    "genes_df.to_csv(\"unique_genes.csv\", index=False)"
   ]
  },
  {
   "cell_type": "code",
   "execution_count": 16,
   "id": "071ce354-574e-4515-aca7-e16d2fe282c3",
   "metadata": {},
   "outputs": [
    {
     "name": "stdout",
     "output_type": "stream",
     "text": [
      "No.of unique traits present :  43309\n"
     ]
    }
   ],
   "source": [
    "#Finding unique traits/diseases\n",
    "unique_traits=df['DISEASE/TRAIT'].dropna().unique()\n",
    "\n",
    "print(\"No.of unique traits present : \", len(unique_traits))"
   ]
  },
  {
   "cell_type": "code",
   "execution_count": 17,
   "id": "fd2a0a23-1e77-4470-a2ed-9f7a33492940",
   "metadata": {},
   "outputs": [
    {
     "name": "stdout",
     "output_type": "stream",
     "text": [
      "['Systemic lupus erythematosus' 'Retinal vascular caliber'\n",
      " 'Urinary albumin excretion' \"Alzheimer's disease (late onset)\"\n",
      " 'HIV-1 progression' 'Suicide risk' 'Nonalcoholic fatty liver disease'\n",
      " 'Optic disc area' \"Dupuytren's disease\" 'Triglycerides' 'LDL cholesterol'\n",
      " 'HDL cholesterol' 'Non-small cell lung cancer (survival)' 'Vitiligo'\n",
      " 'Factor VII' 'Hemostatic factors and hematological phenotypes'\n",
      " 'Adiponectin levels' 'Intelligence (childhood)' 'Bipolar disorder'\n",
      " 'Stroke']\n"
     ]
    }
   ],
   "source": [
    "print(unique_traits[:20])"
   ]
  },
  {
   "cell_type": "code",
   "execution_count": 18,
   "id": "7bcffa87-b17d-43e0-8d51-eca1102f8de2",
   "metadata": {},
   "outputs": [],
   "source": [
    "traits_df=pd.DataFrame(unique_traits, columns=['Disease/Trait'])\n",
    "traits_df.to_csv(\"unique_traits.csv\", index=False)"
   ]
  },
  {
   "cell_type": "code",
   "execution_count": 19,
   "id": "d65d3283-6744-4fec-bb8b-95d3faccf382",
   "metadata": {},
   "outputs": [
    {
     "name": "stdout",
     "output_type": "stream",
     "text": [
      "Top 10 genes with most associations (across traits):\n",
      "MAPPED_GENE\n",
      "FADS2      7592\n",
      "FADS1      4050\n",
      "ALDH1A2    3858\n",
      "SARM1      2641\n",
      "TMEM258    2381\n",
      "GCKR       2302\n",
      "ABO        2223\n",
      "APOE       1994\n",
      "VTN        1983\n",
      "ZPR1       1971\n",
      "Name: count, dtype: int64\n"
     ]
    }
   ],
   "source": [
    "genes = df['MAPPED_GENE'].dropna()\n",
    "genes_split = genes.str.split(',').explode()\n",
    "genes_split = genes_split.str.strip()\n",
    "\n",
    "gene_counts = genes_split.value_counts()\n",
    "top_10_genes = gene_counts.head(10)\n",
    "\n",
    "print(\"Top 10 genes with most associations (across traits):\")\n",
    "print(top_10_genes)\n"
   ]
  },
  {
   "cell_type": "code",
   "execution_count": 20,
   "id": "e14f476d-6bdd-47a2-9e2a-fdaecfada155",
   "metadata": {},
   "outputs": [],
   "source": [
    "top_genes_df=top_10_genes.reset_index()\n",
    "top_genes_df.columns=['Gene', 'Count']\n",
    "top_genes_df.to_csv(\"Top_10_genes.csv\", index=False)"
   ]
  },
  {
   "cell_type": "code",
   "execution_count": 21,
   "id": "a49e5886-7144-4759-bd8f-f0c35734cae4",
   "metadata": {},
   "outputs": [
    {
     "name": "stdout",
     "output_type": "stream",
     "text": [
      "      Gene Chromosome ID                                    SNP-Risk Allele\n",
      "0    FADS2            11  rs174548-G, rs174547-T, rs174546-T, rs174546-C...\n",
      "1    FADS1            11  rs174548-G, rs174547-T, rs174546-T, rs174546-C...\n",
      "2  ALDH1A2            15  rs261334-G, rs1800588-T, rs2043085-A, rs104680...\n",
      "3    SARM1            17  rs7212510-A, rs704-A, rs704-G, rs2071379-A, rs...\n",
      "4  TMEM258            11  rs102275-C, rs102275-T, rs174536-C, rs102274-C...\n",
      "5     GCKR             2  rs1260333-C, rs780094-T, rs780093-T, rs780093-...\n",
      "6      ABO             9  rs657152-T, rs651007-T, rs635634-T, rs579459-C...\n",
      "7     APOE            19  rs439401-C, rs769449-A, rs439401-T, rs439401-G...\n",
      "8      VTN            17         rs704-A, rs704-G, rs2071379-A, rs2227723-T\n",
      "9     ZPR1            11  rs964184-G, rs6589566-G, rs2075290-C, rs118235...\n"
     ]
    }
   ],
   "source": [
    "#Finding Chr number and mutations for the top 10 genes\n",
    "top_10_genes = gene_counts.head(10).index.tolist()\n",
    "\n",
    "results=[]\n",
    "\n",
    "for gene in top_10_genes:\n",
    "    gene_rows=df[df['MAPPED_GENE'].str.contains(rf'\\b{gene}\\b', na=False)]\n",
    "\n",
    "    chr_series = pd.Series(gene_rows['CHR_ID'].dropna().unique())\n",
    "    chr_flat = chr_series.str.split(';').explode()\n",
    "    chr_cleaned = pd.to_numeric(chr_flat.str.strip(), errors='coerce').dropna().astype(int).astype(str).unique()\n",
    "\n",
    "    chr_id = chr_cleaned\n",
    "    \n",
    "    snp_allele=gene_rows['STRONGEST SNP-RISK ALLELE'].dropna().unique()\n",
    "    snp_allele = pd.Series(snp_allele)\n",
    "    snp_allele = snp_allele[~snp_allele.str.endswith('-?')].unique()\n",
    "\n",
    "    results.append(\n",
    "      {\n",
    "        'Gene': gene,\n",
    "        'Chromosome ID':', '.join(chr_id),\n",
    "        'SNP-Risk Allele':', '.join(snp_allele)\n",
    "      }\n",
    "    )\n",
    "\n",
    "result_df=pd.DataFrame(results)\n",
    "print(result_df)"
   ]
  },
  {
   "cell_type": "code",
   "execution_count": 22,
   "id": "ad3b5a97-ca99-4131-9d8f-e19ea7294844",
   "metadata": {},
   "outputs": [],
   "source": [
    "result_df.to_csv(\"ChrID_and_mutations.tsv\", sep='\\t', index=False)"
   ]
  },
  {
   "cell_type": "code",
   "execution_count": 23,
   "id": "751459a8-3013-4e01-b2cb-91fc67914160",
   "metadata": {},
   "outputs": [
    {
     "name": "stdout",
     "output_type": "stream",
     "text": [
      "      Gene Most Common Population\n",
      "0    FADS2               European\n",
      "1    FADS1               European\n",
      "2  ALDH1A2               European\n",
      "3    SARM1               European\n",
      "4  TMEM258               European\n",
      "5     GCKR               European\n",
      "6      ABO               European\n",
      "7     APOE               European\n",
      "8      VTN               European\n",
      "9     ZPR1               European\n"
     ]
    }
   ],
   "source": [
    "#Population with most occurrences for top 10 genes\n",
    "top_10_genes = gene_counts.head(10).index.tolist()\n",
    "pop_keywords = ['European', 'African', 'Asian', 'East Asian', 'South Asian', 'Hispanic', \n",
    "                'Japanese', 'Chinese', 'British', 'Finnish']\n",
    "pop_results=[]\n",
    "\n",
    "for gene in top_10_genes:\n",
    "    gene_rows=df[df['MAPPED_GENE'].str.contains(rf'\\b{gene}\\b', na=False)]\n",
    "\n",
    "    pop=[]\n",
    "    for entry in gene_rows['INITIAL SAMPLE SIZE'].dropna():\n",
    "        for keyword in pop_keywords:\n",
    "             if keyword.lower() in entry.lower():\n",
    "                pop.append(keyword)\n",
    "    if pop:\n",
    "        most_common_pop = pd.Series(pop).value_counts().idxmax()\n",
    "    else:\n",
    "        most_common_pop = 'Unknown'\n",
    "\n",
    "    pop_results.append({'Gene': gene, 'Most Common Population': most_common_pop})\n",
    "\n",
    "pop_df = pd.DataFrame(pop_results)\n",
    "print(pop_df)"
   ]
  },
  {
   "cell_type": "code",
   "execution_count": 24,
   "id": "cdb7156e-f4d9-46a9-822c-09c20d30f5a8",
   "metadata": {},
   "outputs": [],
   "source": [
    "pop_df.to_csv(\"populations_with_most_occurance_for_the_top_10_genes.csv\", index=False)"
   ]
  },
  {
   "cell_type": "code",
   "execution_count": 25,
   "id": "66448ad5-296c-4b81-83d4-c3478e2c36ae",
   "metadata": {},
   "outputs": [
    {
     "name": "stdout",
     "output_type": "stream",
     "text": [
      "Genes with P-value > 0.5:\n",
      "No genes found with P > 0.5\n"
     ]
    }
   ],
   "source": [
    "#Genes having P-value > 0.5\n",
    "df['P-VALUE'] = pd.to_numeric(df['P-VALUE'], errors='coerce')\n",
    "\n",
    "high_pval_df = df[df['P-VALUE'] > 0.5]\n",
    "\n",
    "high_pval_genes = high_pval_df['MAPPED_GENE'].dropna().unique()\n",
    "\n",
    "print(\"Genes with P-value > 0.5:\")\n",
    "for gene in high_pval_genes:\n",
    "    print(gene)\n",
    "else:\n",
    "    print(\"No genes found with P > 0.5\")"
   ]
  },
  {
   "cell_type": "code",
   "execution_count": 26,
   "id": "2e8178a4-1e66-4576-8068-4d39cf51b780",
   "metadata": {},
   "outputs": [
    {
     "name": "stdout",
     "output_type": "stream",
     "text": [
      "Min P-VALUE: 0.0\n",
      "Max P-VALUE: 1e-05\n"
     ]
    }
   ],
   "source": [
    "#Confirming the above result\n",
    "print(\"Min P-VALUE:\", df['P-VALUE'].min())\n",
    "print(\"Max P-VALUE:\", df['P-VALUE'].max())"
   ]
  },
  {
   "cell_type": "code",
   "execution_count": 4,
   "id": "a18a16f2-2239-47cd-9a6c-7e3b15d80f44",
   "metadata": {},
   "outputs": [
    {
     "name": "stdout",
     "output_type": "stream",
     "text": [
      "Top 10 genes with highest valid Odds Ratio:\n",
      "       MAPPED_GENE    OR or BETA\n",
      "275341         ABO  1.400000e+14\n",
      "613725     RPL7P45  1.521286e+08\n",
      "613725  ATP6V1G1P7  1.521286e+08\n",
      "113256      RBFOX1  6.900720e+05\n",
      "113250       TECRL  6.069490e+05\n",
      "113251       NAT16  4.826080e+05\n",
      "113251      MOGAT3  4.826080e+05\n",
      "113257       BTBD9  4.730580e+05\n",
      "113255   LINC01994  3.571910e+05\n",
      "113253       CASC8  3.563600e+05\n"
     ]
    }
   ],
   "source": [
    "#Top 10 genes with highest Odds Ratio\n",
    "import numpy as np\n",
    "\n",
    "df['OR or BETA'] = pd.to_numeric(df['OR or BETA'], errors='coerce')\n",
    "\n",
    "df_or = df.dropna(subset=['OR or BETA', 'MAPPED_GENE'])\n",
    "df_or['MAPPED_GENE'] = df_or['MAPPED_GENE'].str.replace(' - ', ',')\n",
    "df_or['MAPPED_GENE'] = df_or['MAPPED_GENE'].str.split(',')\n",
    "\n",
    "df_genes = df_or.explode('MAPPED_GENE')\n",
    "df_genes['MAPPED_GENE'] = df_genes['MAPPED_GENE'].str.strip()\n",
    "\n",
    "df_clean = df_genes[np.isfinite(df_genes['OR or BETA'])]\n",
    "\n",
    "df_top_or = df_clean.sort_values(by='OR or BETA', ascending=False).drop_duplicates('MAPPED_GENE').head(10)\n",
    "\n",
    "top_10_or = df_top_or[['MAPPED_GENE', 'OR or BETA']].head(10)\n",
    "\n",
    "top_10_or_df = pd.DataFrame(top_10_or)\n",
    "print(\"Top 10 genes with highest valid Odds Ratio:\")\n",
    "print(top_10_or)"
   ]
  },
  {
   "cell_type": "code",
   "execution_count": 28,
   "id": "135f7109-f2dd-4d06-aac6-fce659970054",
   "metadata": {},
   "outputs": [],
   "source": [
    "top_10_or_df.to_csv(\"top_10_OR.csv\", index=False)"
   ]
  },
  {
   "cell_type": "code",
   "execution_count": null,
   "id": "6551ae16-bb44-48cf-88e8-b25adb89efa7",
   "metadata": {},
   "outputs": [],
   "source": []
  }
 ],
 "metadata": {
  "kernelspec": {
   "display_name": "Python [conda env:base] *",
   "language": "python",
   "name": "conda-base-py"
  },
  "language_info": {
   "codemirror_mode": {
    "name": "ipython",
    "version": 3
   },
   "file_extension": ".py",
   "mimetype": "text/x-python",
   "name": "python",
   "nbconvert_exporter": "python",
   "pygments_lexer": "ipython3",
   "version": "3.11.7"
  }
 },
 "nbformat": 4,
 "nbformat_minor": 5
}
